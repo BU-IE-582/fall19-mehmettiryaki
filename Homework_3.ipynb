{
 "cells": [
  {
   "cell_type": "markdown",
   "metadata": {},
   "source": [
    "# Initialize the code"
   ]
  },
  {
   "cell_type": "code",
   "execution_count": 31,
   "metadata": {},
   "outputs": [
    {
     "name": "stderr",
     "output_type": "stream",
     "text": [
      "also installing the dependencies 'lattice', 'codetools', 'iterators', 'Matrix', 'foreach', 'shape'\n",
      "\n"
     ]
    },
    {
     "name": "stdout",
     "output_type": "stream",
     "text": [
      "\n",
      "  There is a binary version available but the source version is later:\n",
      "       binary source needs_compilation\n",
      "Matrix 1.2-17 1.2-18              TRUE\n",
      "\n",
      "  Binaries will be installed\n",
      "package 'lattice' successfully unpacked and MD5 sums checked\n",
      "package 'codetools' successfully unpacked and MD5 sums checked\n",
      "package 'iterators' successfully unpacked and MD5 sums checked\n",
      "package 'Matrix' successfully unpacked and MD5 sums checked\n",
      "package 'foreach' successfully unpacked and MD5 sums checked\n",
      "package 'shape' successfully unpacked and MD5 sums checked\n",
      "package 'glmnet' successfully unpacked and MD5 sums checked\n",
      "\n",
      "The downloaded binary packages are in\n",
      "\tC:\\Users\\tirya\\AppData\\Local\\Temp\\RtmpC0h2D1\\downloaded_packages\n"
     ]
    }
   ],
   "source": [
    "\n",
    "install.packages(\"glmnet\")"
   ]
  },
  {
   "cell_type": "code",
   "execution_count": 29,
   "metadata": {},
   "outputs": [],
   "source": [
    "library(readxl)"
   ]
  },
  {
   "cell_type": "code",
   "execution_count": 28,
   "metadata": {
    "scrolled": true
   },
   "outputs": [
    {
     "ename": "ERROR",
     "evalue": "Error in library(glmnet): there is no package called 'glmnet'\n",
     "output_type": "error",
     "traceback": [
      "Error in library(glmnet): there is no package called 'glmnet'\nTraceback:\n",
      "1. library(glmnet)"
     ]
    }
   ],
   "source": [
    "library(readxl)\n",
    "library(glmnet)\n",
    "MAPE = function(actual, predicted){\n",
    "  result = (sum(abs(actual - predicted)/actual)*100)/length(actual)\n",
    "  return(result)\n",
    "}"
   ]
  },
  {
   "cell_type": "markdown",
   "metadata": {},
   "source": [
    "## Results"
   ]
  },
  {
   "cell_type": "code",
   "execution_count": 30,
   "metadata": {
    "scrolled": true
   },
   "outputs": [
    {
     "name": "stdout",
     "output_type": "stream",
     "text": [
      "'data.frame':\t33984 obs. of  7 variables:\n",
      " $ Date       : POSIXct, format: \"2016-01-01\" \"2016-01-01\" ...\n",
      " $ Hour_Real  : POSIXct, format: \"1899-12-31 00:00:00\" \"1899-12-31 01:00:00\" ...\n",
      " $ Hour       : num  0 1 2 3 4 5 6 7 8 9 ...\n",
      " $ Day        : chr  \"Friday\" \"Friday\" \"Friday\" \"Friday\" ...\n",
      " $ Lag_48     : num  NA NA NA NA NA NA NA NA NA NA ...\n",
      " $ Lag_168    : num  NA NA NA NA NA NA NA NA NA NA ...\n",
      " $ Consumption: num  26277 24992 23533 22465 22003 ...\n"
     ]
    }
   ],
   "source": [
    "setwd(\"C:/Users/tirya/Desktop/IE 582/Homework 3\")\n",
    "mydata <- read_excel('RealTimeConsumption-01012016-17112019.xlsx', sheet=1) # I convert all the names to English\n",
    "mydata = data.frame(mydata)\n",
    "str(mydata)"
   ]
  },
  {
   "cell_type": "markdown",
   "metadata": {},
   "source": []
  },
  {
   "cell_type": "code",
   "execution_count": null,
   "metadata": {},
   "outputs": [],
   "source": []
  },
  {
   "cell_type": "code",
   "execution_count": null,
   "metadata": {},
   "outputs": [],
   "source": []
  },
  {
   "cell_type": "code",
   "execution_count": null,
   "metadata": {},
   "outputs": [],
   "source": []
  }
 ],
 "metadata": {
  "kernelspec": {
   "display_name": "R",
   "language": "R",
   "name": "ir"
  },
  "toc": {
   "base_numbering": 1,
   "nav_menu": {
    "height": "109px",
    "width": "172px"
   },
   "number_sections": true,
   "sideBar": true,
   "skip_h1_title": false,
   "title_cell": "Table of Contents",
   "title_sidebar": "Contents",
   "toc_cell": false,
   "toc_position": {},
   "toc_section_display": true,
   "toc_window_display": false
  }
 },
 "nbformat": 4,
 "nbformat_minor": 2
}
